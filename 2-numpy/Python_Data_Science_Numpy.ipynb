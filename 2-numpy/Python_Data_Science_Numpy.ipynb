{
  "cells": [
    {
      "cell_type": "markdown",
      "metadata": {
        "id": "do3kUOLbltjE"
      },
      "source": [
        "# <font color=green> PYTHON PARA DATA SCIENCE - NUMPY\n",
        "---"
      ]
    },
    {
      "cell_type": "markdown",
      "metadata": {
        "id": "v86aEyR2ltjR"
      },
      "source": [
        "# 1.1 Trabalhando com arrays Numpy"
      ]
    },
    {
      "cell_type": "code",
      "execution_count": 4,
      "metadata": {
        "id": "6FEhElzNltjR"
      },
      "outputs": [],
      "source": [
        "import numpy as np"
      ]
    },
    {
      "cell_type": "code",
      "execution_count": 5,
      "metadata": {
        "id": "qjL5wPLKltjU"
      },
      "outputs": [],
      "source": [
        "km = np.loadtxt('carros-km.txt')"
      ]
    },
    {
      "cell_type": "code",
      "execution_count": null,
      "metadata": {
        "id": "OFaxgUptltjW",
        "scrolled": true
      },
      "outputs": [],
      "source": [
        "km"
      ]
    },
    {
      "cell_type": "code",
      "execution_count": 7,
      "metadata": {
        "id": "FXjYowRDltjZ"
      },
      "outputs": [],
      "source": [
        "anos = np.loadtxt('carros-anos.txt', dtype = int)"
      ]
    },
    {
      "cell_type": "code",
      "execution_count": null,
      "metadata": {
        "id": "f_d2Ya-vltjb"
      },
      "outputs": [],
      "source": [
        "anos"
      ]
    },
    {
      "cell_type": "code",
      "execution_count": null,
      "metadata": {
        "id": "hxLZatdeltje"
      },
      "outputs": [],
      "source": [
        ""
      ]
    },
    {
      "cell_type": "code",
      "execution_count": null,
      "metadata": {
        "id": "GLsHBNakltjg"
      },
      "outputs": [],
      "source": [
        ""
      ]
    },
    {
      "cell_type": "code",
      "execution_count": null,
      "metadata": {
        "id": "oSSYu6nhltji"
      },
      "outputs": [],
      "source": [
        ""
      ]
    },
    {
      "cell_type": "code",
      "execution_count": null,
      "metadata": {
        "id": "D6qMoutGltjk"
      },
      "outputs": [],
      "source": [
        ""
      ]
    },
    {
      "cell_type": "code",
      "execution_count": null,
      "metadata": {
        "id": "XIBz0Vowltjn"
      },
      "outputs": [],
      "source": [
        ""
      ]
    },
    {
      "cell_type": "code",
      "execution_count": null,
      "metadata": {
        "id": "u8_CU3F4ltjq"
      },
      "outputs": [],
      "source": [
        ""
      ]
    },
    {
      "cell_type": "markdown",
      "metadata": {
        "id": "wMdUsAq4ltjs"
      },
      "source": [
        "### Obtendo a quilometragem média por ano"
      ]
    },
    {
      "cell_type": "code",
      "execution_count": 9,
      "metadata": {
        "id": "cD2M3s3Fltjt"
      },
      "outputs": [],
      "source": [
        "km_media = km / (2022 - anos)"
      ]
    },
    {
      "cell_type": "code",
      "execution_count": null,
      "metadata": {
        "id": "65IyPzKKltjv"
      },
      "outputs": [],
      "source": [
        "km_media"
      ]
    },
    {
      "cell_type": "code",
      "execution_count": 11,
      "metadata": {
        "colab": {
          "base_uri": "https://localhost:8080/"
        },
        "id": "Z0JCmAWvltjy",
        "outputId": "eabc98d7-fe34-4aff-bfe0-345797588e74"
      },
      "outputs": [
        {
          "output_type": "execute_result",
          "data": {
            "text/plain": [
              "numpy.ndarray"
            ]
          },
          "metadata": {},
          "execution_count": 11
        }
      ],
      "source": [
        "type(km_media)"
      ]
    },
    {
      "cell_type": "markdown",
      "metadata": {
        "id": "gCBkfq_8ltky"
      },
      "source": [
        "# $$km_{média} = \\frac {km_{total}}{(Ano_{atual} - Ano_{fabricação})}$$"
      ]
    },
    {
      "cell_type": "markdown",
      "metadata": {
        "id": "aRfQfubxlto6"
      },
      "source": [
        "# <font color=green> 2. NUMPY BÁSICO\n",
        "---\n",
        "\n",
        "Numpy é a abreviação de Numerical Python e é um dos pacotes mais importantes para processamento numérico em Python. Numpy oferece a base para a maioria dos pacotes de aplicações científicas que utilizem dados numéricos em Python (estruturas de dados e algoritmos). Pode-se destacar os seguintes recursos que o pacote Numpy contém:\n",
        "\n",
        "- Um poderoso objeto array multidimensional;\n",
        "- Funções matemáticas sofisticadas para operações com arrays sem a necessidade de utilização de laços *for*;\n",
        "- Recursos de algebra linear e geração de números aleatórios\n",
        "\n",
        "Além de seus óbvios usos científicos, o pacote NumPy também é muito utilizado em análise de dados como um eficiente contêiner multidimensional de dados genéricos para transporte entre diversos algoritmos e bibliotecas em Python.\n",
        "\n",
        "**Versão:** 1.16.5\n",
        "\n",
        "**Instalação:** https://scipy.org/install.html\n",
        "\n",
        "**Documentação:** https://numpy.org/doc/1.16/"
      ]
    },
    {
      "cell_type": "markdown",
      "metadata": {
        "id": "RtG2-g1ultme"
      },
      "source": [
        "### Pacotes\n",
        "\n",
        "Existem diversos pacotes Python disponíveis para download na internet. Cada pacote tem como objetivo a solução de determinado tipo de problema e para isso são desenvolvidos novos tipos, funções e métodos.\n",
        "\n",
        "Alguns pacotes são bastante utilizados em um contexto de ciência de dados como por exemplo:\n",
        "\n",
        "- Numpy\n",
        "- Pandas\n",
        "- Scikit-learn\n",
        "- Matplotlib\n",
        "\n",
        "Alguns pacotes não são distribuídos com a instalação default do Python. Neste caso devemos instalar os pacotes que necessitamos em nosso sistema para podermos utilizar suas funcionalidades."
      ]
    },
    {
      "cell_type": "markdown",
      "metadata": {
        "id": "b8prsQjmltme"
      },
      "source": [
        "### Importando todo o pacote"
      ]
    },
    {
      "cell_type": "code",
      "execution_count": 43,
      "metadata": {
        "id": "lP0tqXHLltmf"
      },
      "outputs": [],
      "source": [
        ""
      ]
    },
    {
      "cell_type": "markdown",
      "metadata": {
        "id": "XQDcOl335RVG"
      },
      "source": [
        "https://numpy.org/doc/1.16/reference/generated/numpy.arange.html"
      ]
    },
    {
      "cell_type": "code",
      "execution_count": 43,
      "metadata": {
        "id": "Y40UP3K7ltmg"
      },
      "outputs": [],
      "source": [
        ""
      ]
    },
    {
      "cell_type": "markdown",
      "metadata": {
        "id": "84-53f4Lltmh"
      },
      "source": [
        "### Importando todo o pacote e atribuindo um novo nome "
      ]
    },
    {
      "cell_type": "code",
      "execution_count": null,
      "metadata": {
        "id": "CzESWck7ltmi"
      },
      "outputs": [],
      "source": [
        ""
      ]
    },
    {
      "cell_type": "code",
      "execution_count": null,
      "metadata": {
        "id": "RC7Dr5Viltmj"
      },
      "outputs": [],
      "source": [
        ""
      ]
    },
    {
      "cell_type": "markdown",
      "metadata": {
        "id": "WWawttSpltml"
      },
      "source": [
        "### Importando parte do pacote"
      ]
    },
    {
      "cell_type": "code",
      "execution_count": null,
      "metadata": {
        "id": "8kTeo3Ltltmo"
      },
      "outputs": [],
      "source": [
        ""
      ]
    },
    {
      "cell_type": "code",
      "execution_count": null,
      "metadata": {
        "id": "4LPnpiEwltmt"
      },
      "outputs": [],
      "source": [
        ""
      ]
    },
    {
      "cell_type": "markdown",
      "metadata": {
        "id": "VSmffnCklto6"
      },
      "source": [
        "# 2.1 Criando arrays Numpy"
      ]
    },
    {
      "cell_type": "code",
      "execution_count": null,
      "metadata": {
        "id": "Wqpin_-Plto8"
      },
      "outputs": [],
      "source": [
        ""
      ]
    },
    {
      "cell_type": "markdown",
      "metadata": {
        "id": "ock4Ku-Ulto8"
      },
      "source": [
        "### A partir de listas\n",
        "\n",
        "https://numpy.org/doc/1.16/user/basics.creation.html"
      ]
    },
    {
      "cell_type": "code",
      "execution_count": null,
      "metadata": {
        "id": "82H-09CQlto9"
      },
      "outputs": [],
      "source": [
        ""
      ]
    },
    {
      "cell_type": "code",
      "execution_count": null,
      "metadata": {
        "id": "8VYE3JSYlto9"
      },
      "outputs": [],
      "source": [
        ""
      ]
    },
    {
      "cell_type": "code",
      "execution_count": null,
      "metadata": {
        "id": "OBsa5Cfplto-"
      },
      "outputs": [],
      "source": [
        ""
      ]
    },
    {
      "cell_type": "markdown",
      "metadata": {
        "id": "RfQ3jJSAlto-"
      },
      "source": [
        "https://numpy.org/doc/1.16/user/basics.types.html"
      ]
    },
    {
      "cell_type": "code",
      "execution_count": null,
      "metadata": {
        "id": "6yLpkJcAlto-"
      },
      "outputs": [],
      "source": [
        ""
      ]
    },
    {
      "cell_type": "markdown",
      "metadata": {
        "id": "1pFx86QPlto_"
      },
      "source": [
        "### A partir de dados externos\n",
        "\n",
        "https://numpy.org/doc/1.16/reference/generated/numpy.loadtxt.html"
      ]
    },
    {
      "cell_type": "code",
      "execution_count": null,
      "metadata": {
        "id": "26pQLNgrlto_"
      },
      "outputs": [],
      "source": [
        ""
      ]
    },
    {
      "cell_type": "code",
      "execution_count": null,
      "metadata": {
        "id": "FoP42bdpltpA",
        "scrolled": true
      },
      "outputs": [],
      "source": [
        ""
      ]
    },
    {
      "cell_type": "code",
      "execution_count": null,
      "metadata": {
        "id": "MNPjZJbYltpA"
      },
      "outputs": [],
      "source": [
        ""
      ]
    },
    {
      "cell_type": "markdown",
      "metadata": {
        "id": "_wnTg0wJltpB"
      },
      "source": [
        "### Arrays com duas dimensões"
      ]
    },
    {
      "cell_type": "code",
      "execution_count": null,
      "metadata": {
        "id": "Gt1dL27GltpB",
        "scrolled": true
      },
      "outputs": [],
      "source": [
        "dados = [ \n",
        "    ['Rodas de liga', 'Travas elétricas', 'Piloto automático', 'Bancos de couro', 'Ar condicionado', 'Sensor de estacionamento', 'Sensor crepuscular', 'Sensor de chuva'],\n",
        "    ['Central multimídia', 'Teto panorâmico', 'Freios ABS', '4 X 4', 'Painel digital', 'Piloto automático', 'Bancos de couro', 'Câmera de estacionamento'],\n",
        "    ['Piloto automático', 'Controle de estabilidade', 'Sensor crepuscular', 'Freios ABS', 'Câmbio automático', 'Bancos de couro', 'Central multimídia', 'Vidros elétricos']\n",
        "]\n",
        "dados"
      ]
    },
    {
      "cell_type": "code",
      "execution_count": null,
      "metadata": {
        "id": "IlbYeZPkltpC"
      },
      "outputs": [],
      "source": [
        ""
      ]
    },
    {
      "cell_type": "code",
      "execution_count": null,
      "metadata": {
        "id": "FgjmWozgltpD",
        "scrolled": true
      },
      "outputs": [],
      "source": [
        ""
      ]
    },
    {
      "cell_type": "code",
      "execution_count": null,
      "metadata": {
        "id": "TDM9HskUltpD"
      },
      "outputs": [],
      "source": [
        ""
      ]
    },
    {
      "cell_type": "code",
      "execution_count": null,
      "metadata": {
        "id": "bBmnzpF5ltpE"
      },
      "outputs": [],
      "source": [
        ""
      ]
    },
    {
      "cell_type": "markdown",
      "metadata": {
        "id": "cPbkST9pltpE"
      },
      "source": [
        "### Comparando desempenho com listas"
      ]
    },
    {
      "cell_type": "code",
      "execution_count": null,
      "metadata": {
        "id": "tTPC-G4vltpE"
      },
      "outputs": [],
      "source": [
        ""
      ]
    },
    {
      "cell_type": "code",
      "execution_count": null,
      "metadata": {
        "id": "PIC-ndg9ltpF"
      },
      "outputs": [],
      "source": [
        ""
      ]
    },
    {
      "cell_type": "code",
      "execution_count": null,
      "metadata": {
        "id": "vXy57nk2ltpF"
      },
      "outputs": [],
      "source": [
        ""
      ]
    },
    {
      "cell_type": "code",
      "execution_count": null,
      "metadata": {
        "id": "I94lVgCRltpG"
      },
      "outputs": [],
      "source": [
        ""
      ]
    },
    {
      "cell_type": "markdown",
      "metadata": {
        "id": "ul4MuKyTltpG"
      },
      "source": [
        "# 2.2 Operações aritméticas com arrays Numpy"
      ]
    },
    {
      "cell_type": "markdown",
      "metadata": {
        "id": "QwnxO_rYltpH"
      },
      "source": [
        "### Operações entre arrays e constantes"
      ]
    },
    {
      "cell_type": "code",
      "execution_count": null,
      "metadata": {
        "id": "63KVHPK0ltpH"
      },
      "outputs": [],
      "source": [
        "km = [44410., 5712., 37123., 0., 25757.]\n",
        "anos = [2003, 1991, 1990, 2019, 2006]"
      ]
    },
    {
      "cell_type": "code",
      "execution_count": null,
      "metadata": {
        "id": "AryIZaBIltpH"
      },
      "outputs": [],
      "source": [
        ""
      ]
    },
    {
      "cell_type": "code",
      "execution_count": null,
      "metadata": {
        "id": "s8GvEk4HltpI"
      },
      "outputs": [],
      "source": [
        "km = np.array([44410., 5712., 37123., 0., 25757.])\n",
        "anos = np.array([2003, 1991, 1990, 2019, 2006])"
      ]
    },
    {
      "cell_type": "code",
      "execution_count": null,
      "metadata": {
        "id": "aUnYV7OultpI"
      },
      "outputs": [],
      "source": [
        ""
      ]
    },
    {
      "cell_type": "code",
      "execution_count": null,
      "metadata": {
        "id": "vg5yZ9IpltpJ"
      },
      "outputs": [],
      "source": [
        ""
      ]
    },
    {
      "cell_type": "markdown",
      "metadata": {
        "id": "qn1PUsM9ltpJ"
      },
      "source": [
        "### Operações entre arrays"
      ]
    },
    {
      "cell_type": "code",
      "execution_count": null,
      "metadata": {
        "id": "gU_d5aZkltpJ"
      },
      "outputs": [],
      "source": [
        ""
      ]
    },
    {
      "cell_type": "code",
      "execution_count": null,
      "metadata": {
        "id": "U9DXntUEltpK"
      },
      "outputs": [],
      "source": [
        ""
      ]
    },
    {
      "cell_type": "code",
      "execution_count": null,
      "metadata": {
        "id": "n0rPxgY1ltpL"
      },
      "outputs": [],
      "source": [
        ""
      ]
    },
    {
      "cell_type": "markdown",
      "metadata": {
        "id": "o4-gsGICltpN"
      },
      "source": [
        "### Operações com arrays de duas dimensões"
      ]
    },
    {
      "cell_type": "code",
      "execution_count": null,
      "metadata": {
        "id": "VT71Pbb3ltpN"
      },
      "outputs": [],
      "source": [
        ""
      ]
    },
    {
      "cell_type": "code",
      "execution_count": null,
      "metadata": {
        "id": "bgDe00q8ltpO"
      },
      "outputs": [],
      "source": [
        ""
      ]
    },
    {
      "cell_type": "code",
      "execution_count": null,
      "metadata": {
        "id": "jIQU2ugKltpP"
      },
      "outputs": [],
      "source": [
        ""
      ]
    },
    {
      "cell_type": "markdown",
      "metadata": {
        "id": "dsgz-E5ZltpP"
      },
      "source": [
        "![1410-img01.png](https://caelum-online-public.s3.amazonaws.com/1410-pythondatascience/01/1410-img01.png)"
      ]
    },
    {
      "cell_type": "code",
      "execution_count": null,
      "metadata": {
        "id": "imANn6HultpQ"
      },
      "outputs": [],
      "source": [
        ""
      ]
    },
    {
      "cell_type": "code",
      "execution_count": null,
      "metadata": {
        "id": "Nkp9ljkvltpQ"
      },
      "outputs": [],
      "source": [
        ""
      ]
    },
    {
      "cell_type": "code",
      "execution_count": null,
      "metadata": {
        "id": "njJ2z3HJltpR"
      },
      "outputs": [],
      "source": [
        ""
      ]
    },
    {
      "cell_type": "markdown",
      "metadata": {
        "id": "4CAwtS0-ltpR"
      },
      "source": [
        "# 2.3 Seleções com arrays Numpy"
      ]
    },
    {
      "cell_type": "markdown",
      "metadata": {
        "id": "QDAT1vODltpS"
      },
      "source": [
        "![1410-img01.png](https://caelum-online-public.s3.amazonaws.com/1410-pythondatascience/01/1410-img01.png)"
      ]
    },
    {
      "cell_type": "code",
      "execution_count": null,
      "metadata": {
        "id": "nZpPGS2TltpS"
      },
      "outputs": [],
      "source": [
        ""
      ]
    },
    {
      "cell_type": "markdown",
      "metadata": {
        "id": "b--BIPcOltpT"
      },
      "source": [
        "![1410-img02.png](https://caelum-online-public.s3.amazonaws.com/1410-pythondatascience/01/1410-img02.png)"
      ]
    },
    {
      "cell_type": "markdown",
      "metadata": {
        "id": "86-hOHa7ltpT"
      },
      "source": [
        "### Indexação \n",
        "\n",
        "<font color=red>**Observação:**</font> A indexação tem origem no zero."
      ]
    },
    {
      "cell_type": "code",
      "execution_count": null,
      "metadata": {
        "id": "mr0Q_X0JltpT"
      },
      "outputs": [],
      "source": [
        ""
      ]
    },
    {
      "cell_type": "code",
      "execution_count": null,
      "metadata": {
        "id": "VxiR_IgdltpU"
      },
      "outputs": [],
      "source": [
        ""
      ]
    },
    {
      "cell_type": "code",
      "execution_count": null,
      "metadata": {
        "id": "xGDomIyAltpU"
      },
      "outputs": [],
      "source": [
        ""
      ]
    },
    {
      "cell_type": "code",
      "execution_count": null,
      "metadata": {
        "id": "QEO5Za5PltpV"
      },
      "outputs": [],
      "source": [
        ""
      ]
    },
    {
      "cell_type": "code",
      "execution_count": null,
      "metadata": {
        "id": "rvkeMK8KltpV"
      },
      "outputs": [],
      "source": [
        ""
      ]
    },
    {
      "cell_type": "code",
      "execution_count": null,
      "metadata": {
        "id": "X8c-lJRJltpW"
      },
      "outputs": [],
      "source": [
        ""
      ]
    },
    {
      "cell_type": "markdown",
      "metadata": {
        "id": "fCWUSI1zltpZ"
      },
      "source": [
        "## <font color=green>**Dica:**</font>\n",
        "### *ndarray[ linha ][ coluna ]* ou *ndarray[ linha, coluna ]*"
      ]
    },
    {
      "cell_type": "code",
      "execution_count": null,
      "metadata": {
        "id": "Nxc3uY-ZltpZ"
      },
      "outputs": [],
      "source": [
        ""
      ]
    },
    {
      "cell_type": "code",
      "execution_count": null,
      "metadata": {
        "id": "xp8ByjualtpZ"
      },
      "outputs": [],
      "source": [
        ""
      ]
    },
    {
      "cell_type": "markdown",
      "metadata": {
        "id": "7osmTUC4ltpa"
      },
      "source": [
        " ### Fatiamentos\n",
        " \n",
        "A sintaxe para realizar fatiamento em um array Numpy é $i : j : k$ onde $i$ é o índice inicial, $j$ é o índice de parada, e $k$ é o indicador de passo ($k\\neq0$)\n",
        " \n",
        "<font color=red>**Observação:**</font> Nos fatiamentos (*slices*) o item com índice i é **incluído** e o item com índice j **não é incluído** no resultado."
      ]
    },
    {
      "cell_type": "markdown",
      "metadata": {
        "id": "HEx4TbNlltpa"
      },
      "source": [
        "![1410-img01.png](https://caelum-online-public.s3.amazonaws.com/1410-pythondatascience/01/1410-img01.png)"
      ]
    },
    {
      "cell_type": "code",
      "execution_count": null,
      "metadata": {
        "id": "tlaD1SENltpb"
      },
      "outputs": [],
      "source": [
        ""
      ]
    },
    {
      "cell_type": "code",
      "execution_count": null,
      "metadata": {
        "id": "vXLIO1cVltpc"
      },
      "outputs": [],
      "source": [
        ""
      ]
    },
    {
      "cell_type": "code",
      "execution_count": null,
      "metadata": {
        "id": "kYLgsQcHltpc"
      },
      "outputs": [],
      "source": [
        ""
      ]
    },
    {
      "cell_type": "code",
      "execution_count": null,
      "metadata": {
        "id": "H2MJpIasltpd"
      },
      "outputs": [],
      "source": [
        ""
      ]
    },
    {
      "cell_type": "code",
      "execution_count": null,
      "metadata": {
        "id": "YVzf4fNCltpe"
      },
      "outputs": [],
      "source": [
        ""
      ]
    },
    {
      "cell_type": "code",
      "execution_count": null,
      "metadata": {
        "id": "bPyQsUFPltpf"
      },
      "outputs": [],
      "source": [
        ""
      ]
    },
    {
      "cell_type": "code",
      "execution_count": null,
      "metadata": {
        "id": "IRxfixG-ltpg"
      },
      "outputs": [],
      "source": [
        ""
      ]
    },
    {
      "cell_type": "code",
      "execution_count": null,
      "metadata": {
        "id": "wfoJ84haltph"
      },
      "outputs": [],
      "source": [
        ""
      ]
    },
    {
      "cell_type": "code",
      "execution_count": null,
      "metadata": {
        "id": "UeejSXUAltph"
      },
      "outputs": [],
      "source": [
        ""
      ]
    },
    {
      "cell_type": "markdown",
      "metadata": {
        "id": "-fW4EXIqltpi"
      },
      "source": [
        "### Indexação com array booleano\n",
        "\n",
        "<font color=red>**Observação:**</font> Seleciona um grupo de linhas e colunas segundo os rótulos ou um array booleano."
      ]
    },
    {
      "cell_type": "code",
      "execution_count": null,
      "metadata": {
        "id": "MgmH-rCSltpi"
      },
      "outputs": [],
      "source": [
        ""
      ]
    },
    {
      "cell_type": "code",
      "execution_count": null,
      "metadata": {
        "id": "HN1i-BlLltpj"
      },
      "outputs": [],
      "source": [
        ""
      ]
    },
    {
      "cell_type": "code",
      "execution_count": null,
      "metadata": {
        "id": "iXJa9tL4ltpj"
      },
      "outputs": [],
      "source": [
        ""
      ]
    },
    {
      "cell_type": "code",
      "execution_count": null,
      "metadata": {
        "id": "54gH6X5eltpk"
      },
      "outputs": [],
      "source": [
        ""
      ]
    },
    {
      "cell_type": "code",
      "execution_count": null,
      "metadata": {
        "id": "F3z6zMELltpk"
      },
      "outputs": [],
      "source": [
        ""
      ]
    },
    {
      "cell_type": "code",
      "execution_count": null,
      "metadata": {
        "id": "pk8A68z1ltpl"
      },
      "outputs": [],
      "source": [
        ""
      ]
    },
    {
      "cell_type": "code",
      "execution_count": null,
      "metadata": {
        "id": "WUVMN29_ltpm"
      },
      "outputs": [],
      "source": [
        ""
      ]
    },
    {
      "cell_type": "markdown",
      "metadata": {
        "id": "Acw1DffHltpn"
      },
      "source": [
        "# 2.4 Atributos e métodos de arrays Numpy"
      ]
    },
    {
      "cell_type": "markdown",
      "metadata": {
        "id": "RBnSne6Eltpo"
      },
      "source": [
        "### Atributos\n",
        "\n",
        "https://numpy.org/doc/1.16/reference/arrays.ndarray.html#array-attributes"
      ]
    },
    {
      "cell_type": "code",
      "execution_count": null,
      "metadata": {
        "id": "stjvD6m8ltpo"
      },
      "outputs": [],
      "source": [
        ""
      ]
    },
    {
      "cell_type": "markdown",
      "metadata": {
        "id": "uKqPxg2Zltpo"
      },
      "source": [
        "## *ndarray.shape*\n",
        "\n",
        "Retorna uma tupla com as dimensões do array."
      ]
    },
    {
      "cell_type": "code",
      "execution_count": null,
      "metadata": {
        "id": "gmaZhF04ltpp"
      },
      "outputs": [],
      "source": [
        ""
      ]
    },
    {
      "cell_type": "markdown",
      "metadata": {
        "id": "XaY6oXkmltpp"
      },
      "source": [
        "## *ndarray.ndim*\n",
        "\n",
        "Retorna o número de dimensões do array."
      ]
    },
    {
      "cell_type": "code",
      "execution_count": null,
      "metadata": {
        "id": "inJ4HDjaltpq"
      },
      "outputs": [],
      "source": [
        ""
      ]
    },
    {
      "cell_type": "markdown",
      "metadata": {
        "id": "ESgVt5xOltpq"
      },
      "source": [
        "## *ndarray.size*\n",
        "\n",
        "Retorna o número de elementos do array."
      ]
    },
    {
      "cell_type": "code",
      "execution_count": null,
      "metadata": {
        "id": "BWr4efoiltpq"
      },
      "outputs": [],
      "source": [
        ""
      ]
    },
    {
      "cell_type": "markdown",
      "metadata": {
        "id": "Ox8JlBM3ltpr"
      },
      "source": [
        "## *ndarray.dtype*\n",
        "\n",
        "Retorna o tipo de dados dos elementos do array."
      ]
    },
    {
      "cell_type": "code",
      "execution_count": null,
      "metadata": {
        "id": "npiL84Vfltpu"
      },
      "outputs": [],
      "source": [
        ""
      ]
    },
    {
      "cell_type": "markdown",
      "metadata": {
        "id": "j7uPN16oltpv"
      },
      "source": [
        "## *ndarray.T*\n",
        "\n",
        "Retorna o array transposto, isto é, converte linhas em colunas e vice versa."
      ]
    },
    {
      "cell_type": "code",
      "execution_count": null,
      "metadata": {
        "id": "bLjrrx56ltpv"
      },
      "outputs": [],
      "source": [
        ""
      ]
    },
    {
      "cell_type": "code",
      "execution_count": null,
      "metadata": {
        "id": "5A9SlJQvltpw"
      },
      "outputs": [],
      "source": [
        ""
      ]
    },
    {
      "cell_type": "markdown",
      "metadata": {
        "id": "e9r6ryTrltpw"
      },
      "source": [
        "### Métodos\n",
        "\n",
        "https://numpy.org/doc/1.16/reference/arrays.ndarray.html#array-methods"
      ]
    },
    {
      "cell_type": "markdown",
      "metadata": {
        "id": "SR9KYy-0ltpw"
      },
      "source": [
        "## *ndarray.tolist()*\n",
        "\n",
        "Retorna o array como uma lista Python."
      ]
    },
    {
      "cell_type": "code",
      "execution_count": null,
      "metadata": {
        "id": "C2aTAwOXltpw"
      },
      "outputs": [],
      "source": [
        ""
      ]
    },
    {
      "cell_type": "markdown",
      "metadata": {
        "id": "bHxcxugPltpx"
      },
      "source": [
        "## *ndarray.reshape(shape[, order])*\n",
        "\n",
        "Retorna um array que contém os mesmos dados com uma nova forma."
      ]
    },
    {
      "cell_type": "code",
      "execution_count": null,
      "metadata": {
        "id": "lwESxO71ltpx"
      },
      "outputs": [],
      "source": [
        ""
      ]
    },
    {
      "cell_type": "code",
      "execution_count": null,
      "metadata": {
        "id": "sh9poyfzltpy"
      },
      "outputs": [],
      "source": [
        ""
      ]
    },
    {
      "cell_type": "code",
      "execution_count": null,
      "metadata": {
        "id": "5332Xu8-ltpy"
      },
      "outputs": [],
      "source": [
        ""
      ]
    },
    {
      "cell_type": "code",
      "execution_count": null,
      "metadata": {
        "id": "2RoZvbgHltpz"
      },
      "outputs": [],
      "source": [
        ""
      ]
    },
    {
      "cell_type": "code",
      "execution_count": null,
      "metadata": {
        "id": "6q0dJZ-dltp0"
      },
      "outputs": [],
      "source": [
        "km = [44410, 5712, 37123, 0, 25757]\n",
        "anos = [2003, 1991, 1990, 2019, 2006]"
      ]
    },
    {
      "cell_type": "code",
      "execution_count": null,
      "metadata": {
        "id": "bs56aGrkltp0"
      },
      "outputs": [],
      "source": [
        ""
      ]
    },
    {
      "cell_type": "code",
      "execution_count": null,
      "metadata": {
        "id": "s_GkTk2fltp1"
      },
      "outputs": [],
      "source": [
        ""
      ]
    },
    {
      "cell_type": "code",
      "execution_count": null,
      "metadata": {
        "id": "xodm8DVZltp1"
      },
      "outputs": [],
      "source": [
        ""
      ]
    },
    {
      "cell_type": "markdown",
      "metadata": {
        "id": "Tdj5iArbltp2"
      },
      "source": [
        "## *ndarray.resize(new_shape[, refcheck])*\n",
        "\n",
        "Altera a forma e o tamanho do array."
      ]
    },
    {
      "cell_type": "code",
      "execution_count": null,
      "metadata": {
        "id": "vB2zxCDtltp2"
      },
      "outputs": [],
      "source": [
        ""
      ]
    },
    {
      "cell_type": "code",
      "execution_count": null,
      "metadata": {
        "id": "IMv0m4Multp2"
      },
      "outputs": [],
      "source": [
        ""
      ]
    },
    {
      "cell_type": "code",
      "execution_count": null,
      "metadata": {
        "id": "wpAi9928ltp3"
      },
      "outputs": [],
      "source": [
        ""
      ]
    },
    {
      "cell_type": "code",
      "execution_count": null,
      "metadata": {
        "id": "CJyuKqaFltp3"
      },
      "outputs": [],
      "source": [
        ""
      ]
    },
    {
      "cell_type": "code",
      "execution_count": null,
      "metadata": {
        "id": "bj_iPZAultp4"
      },
      "outputs": [],
      "source": [
        ""
      ]
    },
    {
      "cell_type": "markdown",
      "metadata": {
        "id": "GPSk7Q_Dltp4"
      },
      "source": [
        "# 2.5 Estatísticas com arrays Numpy\n",
        "\n",
        "https://numpy.org/doc/1.16/reference/arrays.ndarray.html#calculation\n",
        "\n",
        "e\n",
        "\n",
        "https://numpy.org/doc/1.16/reference/routines.statistics.html\n",
        "\n",
        "e\n",
        "\n",
        "https://numpy.org/doc/1.16/reference/routines.math.html"
      ]
    },
    {
      "cell_type": "code",
      "execution_count": null,
      "metadata": {
        "id": "RH2u1orXltp5"
      },
      "outputs": [],
      "source": [
        "anos = np.loadtxt(fname = \"carros-anos.txt\", dtype = int)\n",
        "km = np.loadtxt(fname = \"carros-km.txt\")\n",
        "valor = np.loadtxt(fname = \"carros-valor.txt\")"
      ]
    },
    {
      "cell_type": "code",
      "execution_count": null,
      "metadata": {
        "id": "wbITF7r6ltp5"
      },
      "outputs": [],
      "source": [
        ""
      ]
    },
    {
      "cell_type": "markdown",
      "metadata": {
        "id": "U_x3SOVDltp7"
      },
      "source": [
        "https://numpy.org/doc/1.16/reference/generated/numpy.column_stack.html"
      ]
    },
    {
      "cell_type": "code",
      "execution_count": null,
      "metadata": {
        "id": "wefxl-XBltp8"
      },
      "outputs": [],
      "source": [
        ""
      ]
    },
    {
      "cell_type": "code",
      "execution_count": null,
      "metadata": {
        "id": "OzDTTmj8ltp_",
        "scrolled": true
      },
      "outputs": [],
      "source": [
        ""
      ]
    },
    {
      "cell_type": "markdown",
      "metadata": {
        "id": "Me6yUU_RltqA"
      },
      "source": [
        "## *np.mean()*\n",
        "\n",
        "Retorna a média dos elementos do array ao longo do eixo especificado."
      ]
    },
    {
      "cell_type": "code",
      "execution_count": null,
      "metadata": {
        "id": "MNEKcP38ltqA"
      },
      "outputs": [],
      "source": [
        ""
      ]
    },
    {
      "cell_type": "code",
      "execution_count": null,
      "metadata": {
        "id": "sekHQ84zltqB"
      },
      "outputs": [],
      "source": [
        ""
      ]
    },
    {
      "cell_type": "code",
      "execution_count": null,
      "metadata": {
        "id": "RpyETIVSltqC"
      },
      "outputs": [],
      "source": [
        ""
      ]
    },
    {
      "cell_type": "code",
      "execution_count": null,
      "metadata": {
        "id": "_-kpcTI8ltqD",
        "scrolled": true
      },
      "outputs": [],
      "source": [
        ""
      ]
    },
    {
      "cell_type": "markdown",
      "metadata": {
        "id": "71jViVBUltqE"
      },
      "source": [
        "## *np.std()*\n",
        "\n",
        "Retorna o desvio padrão dos elementos do array ao longo do eixo especificado."
      ]
    },
    {
      "cell_type": "code",
      "execution_count": null,
      "metadata": {
        "id": "lEwUbPx2ltqE",
        "scrolled": true
      },
      "outputs": [],
      "source": [
        ""
      ]
    },
    {
      "cell_type": "markdown",
      "metadata": {
        "id": "JTUH-vAeltqG"
      },
      "source": [
        "## *ndarray.sum()*\n",
        "\n",
        "Retorna a soma dos elementos do array ao longo do eixo especificado."
      ]
    },
    {
      "cell_type": "code",
      "execution_count": null,
      "metadata": {
        "id": "jIi3yoaWltqG"
      },
      "outputs": [],
      "source": [
        ""
      ]
    },
    {
      "cell_type": "code",
      "execution_count": null,
      "metadata": {
        "id": "X3QYbdYLltqH"
      },
      "outputs": [],
      "source": [
        ""
      ]
    },
    {
      "cell_type": "markdown",
      "metadata": {
        "id": "WbBD5ixaltqH"
      },
      "source": [
        "## *np.sum()*\n",
        "\n",
        "Retorna a soma dos elementos do array ao longo do eixo especificado."
      ]
    },
    {
      "cell_type": "code",
      "execution_count": null,
      "metadata": {
        "id": "omB6kgWgltqH"
      },
      "outputs": [],
      "source": [
        ""
      ]
    },
    {
      "cell_type": "code",
      "execution_count": null,
      "metadata": {
        "id": "LiD4G3kQltqI"
      },
      "outputs": [],
      "source": [
        ""
      ]
    },
    {
      "cell_type": "code",
      "execution_count": null,
      "metadata": {
        "id": "kpakpnntltqJ"
      },
      "outputs": [],
      "source": [
        ""
      ]
    }
  ],
  "metadata": {
    "colab": {
      "name": "Python_Data_Science_Numpy.ipynb",
      "provenance": [],
      "toc_visible": true,
      "collapsed_sections": [
        "v86aEyR2ltjR",
        "aRfQfubxlto6",
        "RtG2-g1ultme",
        "b8prsQjmltme",
        "84-53f4Lltmh",
        "WWawttSpltml",
        "VSmffnCklto6",
        "ock4Ku-Ulto8",
        "1pFx86QPlto_",
        "_wnTg0wJltpB",
        "cPbkST9pltpE",
        "ul4MuKyTltpG",
        "QwnxO_rYltpH",
        "qn1PUsM9ltpJ",
        "o4-gsGICltpN",
        "4CAwtS0-ltpR",
        "86-hOHa7ltpT",
        "fCWUSI1zltpZ",
        "7osmTUC4ltpa",
        "-fW4EXIqltpi",
        "Acw1DffHltpn",
        "RBnSne6Eltpo",
        "uKqPxg2Zltpo",
        "XaY6oXkmltpp",
        "ESgVt5xOltpq",
        "Ox8JlBM3ltpr",
        "j7uPN16oltpv",
        "e9r6ryTrltpw",
        "SR9KYy-0ltpw",
        "bHxcxugPltpx",
        "Tdj5iArbltp2",
        "GPSk7Q_Dltp4",
        "Me6yUU_RltqA",
        "71jViVBUltqE",
        "JTUH-vAeltqG",
        "WbBD5ixaltqH"
      ]
    },
    "kernelspec": {
      "display_name": "Python 3",
      "language": "python",
      "name": "python3"
    },
    "language_info": {
      "codemirror_mode": {
        "name": "ipython",
        "version": 3
      },
      "file_extension": ".py",
      "mimetype": "text/x-python",
      "name": "python",
      "nbconvert_exporter": "python",
      "pygments_lexer": "ipython3",
      "version": "3.6.5"
    }
  },
  "nbformat": 4,
  "nbformat_minor": 0
}